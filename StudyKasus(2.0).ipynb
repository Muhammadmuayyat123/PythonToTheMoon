{
  "nbformat": 4,
  "nbformat_minor": 0,
  "metadata": {
    "colab": {
      "name": "StudyKasus(2.0).ipynb",
      "provenance": [],
      "authorship_tag": "ABX9TyO05sw/G7Llh8PsdhFUXReK",
      "include_colab_link": true
    },
    "kernelspec": {
      "name": "python3",
      "display_name": "Python 3"
    },
    "language_info": {
      "name": "python"
    }
  },
  "cells": [
    {
      "cell_type": "markdown",
      "metadata": {
        "id": "view-in-github",
        "colab_type": "text"
      },
      "source": [
        "<a href=\"https://colab.research.google.com/github/Muhammadmuayyat123/TUGAS-ASD/blob/main/StudyKasus(2.0).ipynb\" target=\"_parent\"><img src=\"https://colab.research.google.com/assets/colab-badge.svg\" alt=\"Open In Colab\"/></a>"
      ]
    },
    {
      "cell_type": "code",
      "execution_count": 6,
      "metadata": {
        "colab": {
          "base_uri": "https://localhost:8080/"
        },
        "id": "A2uL2YBmffSy",
        "outputId": "38fa38ce-94b1-4681-d938-5a68738d9f16"
      },
      "outputs": [
        {
          "name": "stdout",
          "output_type": "stream",
          "text": [
            "PILIHAN\n",
            "  1. Menambah\n",
            "  2. Menghapus\n",
            "  3. Mengedit\n",
            "  4. Menampilkan semua\n",
            "  5. Mencari item\n",
            "  6. Mencari index\n",
            "  0. Keluar\n",
            "Masukkan pilihan anda : 1\n",
            "MENAMBAH\n",
            "Masukkan item yang ditambahkan : makanan\n",
            "Ketik b untuk berhenti, selain itu lanjut\n",
            "b\n",
            "PILIHAN\n",
            "  1. Menambah\n",
            "  2. Menghapus\n",
            "  3. Mengedit\n",
            "  4. Menampilkan semua\n",
            "  5. Mencari item\n",
            "  6. Mencari index\n",
            "  0. Keluar\n",
            "Masukkan pilihan anda : 6\n",
            "MENCARI INDEX\n",
            "index apa yang anda cari : makanan\n",
            "makanan ada pada index ke-0\n",
            "PILIHAN\n",
            "  1. Menambah\n",
            "  2. Menghapus\n",
            "  3. Mengedit\n",
            "  4. Menampilkan semua\n",
            "  5. Mencari item\n",
            "  6. Mencari index\n",
            "  0. Keluar\n",
            "Masukkan pilihan anda : 0\n"
          ]
        }
      ],
      "source": [
        "list_kosong = []\n",
        "\n",
        "while True:\n",
        "  print('''PILIHAN\n",
        "  1. Menambah\n",
        "  2. Menghapus\n",
        "  3. Mengedit\n",
        "  4. Menampilkan semua\n",
        "  5. Mencari item\n",
        "  6. Mencari index\n",
        "  0. Keluar''')\n",
        "\n",
        "  pilihan = input('Masukkan pilihan anda : ')\n",
        "\n",
        "  if pilihan == '0':\n",
        "    break\n",
        "  elif pilihan == '1':\n",
        "    while True:\n",
        "      print('MENAMBAH')\n",
        "      tambah = input('Masukkan item yang ditambahkan : ')\n",
        "      list_kosong.append(tambah)\n",
        "\n",
        "      print('Ketik b untuk berhenti, selain itu lanjut')\n",
        "      a = input()\n",
        "      if a == 'b':\n",
        "        break\n",
        "  elif pilihan == '2':\n",
        "    while True:\n",
        "      print('MENGHAPUS')\n",
        "      hps = input('Masukkan item yang akan dihapus : ')\n",
        "\n",
        "      if hps in list_kosong:\n",
        "        print(list_kosong.remove(hps))\n",
        "      else:\n",
        "        print('Item tidak ada')\n",
        "\n",
        "      print('Ketik b untuk berhenti, selain itu lanjut')\n",
        "      a = input()\n",
        "      if a == 'b':\n",
        "        break\n",
        "  \n",
        "  elif pilihan == '3':\n",
        "    while True:\n",
        "      print('MERUBAH')\n",
        "      edit = input('Item apa yang ingin diedit : ')\n",
        "      if edit in list_kosong:\n",
        "        list_kosong[list_kosong.index(edit)] = input('==>')\n",
        "      else:\n",
        "        print('Item tidak ada')\n",
        "\n",
        "      print('Ketik b untuk berhenti, selain itu lanjut')\n",
        "      a = input()\n",
        "      if a == 'b':\n",
        "        break\n",
        "\n",
        "  elif pilihan == '4':\n",
        "    print('MENAMPILKAN ITEM')\n",
        "    print(list_kosong)\n",
        "  elif pilihan == '5':\n",
        "    print('MENCARI ITEM')\n",
        "    cari = input('Item apa yang anda cari : ')\n",
        "    for i in range(len(list_kosong)):\n",
        "      if list_kosong[i] == cari:\n",
        "        print('{} Telah ditemukan'.format(cari))\n",
        "    else:\n",
        "      print('{} Tidak ditemukan'.format(cari))\n",
        "  elif pilihan == '6':\n",
        "    print('MENCARI INDEX')\n",
        "    caridx = input('index apa yang anda cari : ')\n",
        "    if caridx in list_kosong:\n",
        "      print(f'{caridx} ada pada index ke-{list_kosong.index(caridx)}')\n",
        "    else:\n",
        "      print('index tidak ditemukan')\n"
      ]
    }
  ]
}