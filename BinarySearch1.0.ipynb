{
  "nbformat": 4,
  "nbformat_minor": 0,
  "metadata": {
    "colab": {
      "name": "BinarySearch.ipynb",
      "provenance": [],
      "authorship_tag": "ABX9TyNKAJB8b2K3sGqMLz2PbTGQ",
      "include_colab_link": true
    },
    "kernelspec": {
      "name": "python3",
      "display_name": "Python 3"
    },
    "language_info": {
      "name": "python"
    }
  },
  "cells": [
    {
      "cell_type": "markdown",
      "metadata": {
        "id": "view-in-github",
        "colab_type": "text"
      },
      "source": [
        "<a href=\"https://colab.research.google.com/github/Muhammadmuayyat123/TUGAS-ASD/blob/main/BinarySearch1.0.ipynb\" target=\"_parent\"><img src=\"https://colab.research.google.com/assets/colab-badge.svg\" alt=\"Open In Colab\"/></a>"
      ]
    },
    {
      "cell_type": "code",
      "execution_count": 2,
      "metadata": {
        "colab": {
          "base_uri": "https://localhost:8080/"
        },
        "id": "lAtnIrP8-eWx",
        "outputId": "a2106b96-88d3-4e8a-98af-bc9ae70f767c"
      },
      "outputs": [
        {
          "output_type": "stream",
          "name": "stdout",
          "text": [
            "None\n"
          ]
        }
      ],
      "source": [
        "def binary_search(urutan, item):\n",
        "  index_awal = 0\n",
        "  index_akhir = len(urutan) - 1\n",
        "\n",
        "  while index_awal <= index_akhir:\n",
        "    pertengahan = index_awal + (index_akhir - index_awal) // 2\n",
        "    pertengahan_nilai = urutan[pertengahan]\n",
        "    if pertengahan_nilai == item:\n",
        "      return pertengahan\n",
        "\n",
        "    elif item < pertengahan_nilai:\n",
        "      index_akhir = pertengahan - 1\n",
        "\n",
        "    else:\n",
        "      index_awal = pertengahan + 1\n",
        "\n",
        "  return None\n",
        "\n",
        "urutan_a = [12,14,15,16,17,18,19,20,22,23,24]\n",
        "item_a = 13\n",
        "\n",
        "print(binary_search(urutan_a, item_a))"
      ]
    }
  ]
}