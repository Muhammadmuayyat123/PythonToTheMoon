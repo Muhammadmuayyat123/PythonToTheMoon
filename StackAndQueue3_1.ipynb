{
  "nbformat": 4,
  "nbformat_minor": 0,
  "metadata": {
    "colab": {
      "name": "StackAndQueue3.1.ipynb",
      "provenance": [],
      "authorship_tag": "ABX9TyPBMpAoD56eiMV6o9/rxRVM",
      "include_colab_link": true
    },
    "kernelspec": {
      "name": "python3",
      "display_name": "Python 3"
    },
    "language_info": {
      "name": "python"
    }
  },
  "cells": [
    {
      "cell_type": "markdown",
      "metadata": {
        "id": "view-in-github",
        "colab_type": "text"
      },
      "source": [
        "<a href=\"https://colab.research.google.com/github/Muhammadmuayyat123/TUGAS-ASD/blob/main/StackAndQueue3_1.ipynb\" target=\"_parent\"><img src=\"https://colab.research.google.com/assets/colab-badge.svg\" alt=\"Open In Colab\"/></a>"
      ]
    },
    {
      "cell_type": "markdown",
      "source": [
        "**1. untuk Stack, buat 5 fungsi yaitu pop, peek/top, push, empty, size**"
      ],
      "metadata": {
        "id": "wA8N9gR0ORJt"
      }
    },
    {
      "cell_type": "code",
      "source": [
        "lemari = []\n",
        "maksimal = int(input('Masukkan ukuran max :'))\n",
        "\n",
        "def isEmpty():\n",
        "  if len(lemari) == 0:\n",
        "    print('Lemari kosong')\n",
        "    return True\n",
        "  return False\n",
        "\n",
        "def isFull():\n",
        "  if len(lemari) == maksimal:\n",
        "    print('Lemari penuh')\n",
        "    return True\n",
        "  return False\n",
        "\n",
        "def pop():\n",
        "  if isEmpty() == False:\n",
        "    print(lemari.pop(), 'Pakaian terhapus')\n",
        "\n",
        "def push():\n",
        "  if isFull() == False:\n",
        "    masukkan = input('Masukkan pakaian baru : ')\n",
        "    lemari.append(masukkan)\n",
        "    print(masukkan, 'Pakaian telah ditambahkan')\n",
        "\n",
        "def peek():\n",
        "  if isEmpty() == False:\n",
        "    print('pakaian terakhir : ', lemari[-1])\n",
        "\n",
        "while True:\n",
        "  print('=====================')\n",
        "  print('|     Menu Stack    |')\n",
        "  print('=====================')\n",
        "  print('1. Push => memasukkan data')\n",
        "  print('2. Pop  => Mengeluarkan objek')\n",
        "  print('3. Peek => Melihat item teratas')\n",
        "  print('4. Empty=> Memeriksa apakah lemari penuh')\n",
        "  print('5. Size => Menghitung banyaknya item')\n",
        "  print('0. Exit => Program berhenti')\n",
        "\n",
        "  pilih = input('Masukkan pilihan anda : ')\n",
        "\n",
        "  if pilih == '0':\n",
        "    break \n",
        "  elif pilih == '1':\n",
        "    push()\n",
        "  elif pilih == '2':\n",
        "    pop()\n",
        "  elif pilih == '3':\n",
        "    peek()\n",
        "  elif pilih == '4':\n",
        "    if isEmpty() == False:\n",
        "      print('Lemari masih terisi')\n",
        "  elif pilih == '5':\n",
        "    print('isi lemari saat ini : ', len(lemari), '\\nUkuran maksimal Lemari : ', maksimal)"
      ],
      "metadata": {
        "id": "mUFxrpSWQEvm"
      },
      "execution_count": null,
      "outputs": []
    },
    {
      "cell_type": "markdown",
      "source": [
        "**Untuk Queue, buatlah fungsi Enqueue, Dequeue, full, size**"
      ],
      "metadata": {
        "id": "MIfSbZDibZ3J"
      }
    },
    {
      "cell_type": "code",
      "source": [
        "antrian = []\n",
        "maksimal = int(input('Masukkan max antrian : '))\n",
        "\n",
        "def isEmpty():\n",
        "  if len(antrian) == False:\n",
        "    print('Antrian kosong')\n",
        "    return True\n",
        "  return False\n",
        "\n",
        "def isFull():\n",
        "  if len(antrian) == maksimal:\n",
        "    print('Antrian sudah penuh')\n",
        "    return True\n",
        "  return False\n",
        "\n",
        "def dequeue():\n",
        "  if isEmpty() == False:\n",
        "    print(antrian.pop(0),'Dihapus dari antrian')\n",
        "\n",
        "def enqueue():\n",
        "  if isFull() == False:\n",
        "    msk = input('Masukkan antrian baru : ')\n",
        "    antrian.append(msk)\n",
        "    print(msk, 'Ditambahkan ke antrian ')\n",
        "\n",
        "a = 0\n",
        "while a != '8':\n",
        "    print('=====================')\n",
        "    print('|     Menu Stack    |')\n",
        "    print('=====================')\n",
        "    print('1. Enqueue => Menambahkan antrian')\n",
        "    print('2. Dequeue => Menghapus antrian')\n",
        "    print('3. Full    => Memeriksa jika  penuh')\n",
        "    print('4. Size    => Melihat ukuran antrian')\n",
        "    print('8. Exit => Program berhenti')\n",
        "\n",
        "    pilihan = input('Masukkan pilihan anda : ')\n",
        "\n",
        "    if pilihan == '8':\n",
        "      break\n",
        "    elif pilihan == '1':\n",
        "      enqueue()\n",
        "    elif pilihan == '2':\n",
        "      dequeue()\n",
        "    elif pilihan == '3':\n",
        "      if isFull() == False:\n",
        "        print('Antrian belum penuh')\n",
        "    elif pilihan == '4':\n",
        "      print('Ukuran Antrian saat ini : ', len(antrian), '\\nUkuran maksimal Antrian : ', maksimal)\n",
        "    "
      ],
      "metadata": {
        "id": "4_Dpn9uwU_J7"
      },
      "execution_count": null,
      "outputs": []
    }
  ]
}